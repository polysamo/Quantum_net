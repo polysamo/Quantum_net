{
 "cells": [
  {
   "cell_type": "markdown",
   "metadata": {},
   "source": [
    "# Guia da Camada de Transporte\n",
    "### A camada de rede tem como o objetivo de realizar o processo de envio de n qubits de Alice para Bob. De forma que este guia contém as duas funcionalidades e ferramentas."
   ]
  },
  {
   "cell_type": "markdown",
   "metadata": {},
   "source": [
    "#### IMPORTANDO AS DEPENDÊNCIAS\n",
    "##### Este documento tem como objetivo demostrar a execução da camada de transporte, além de suas características."
   ]
  },
  {
   "cell_type": "code",
   "execution_count": 1,
   "metadata": {},
   "outputs": [],
   "source": [
    "from quantumnet.components import Network, Host\n",
    "from quantumnet.objects import Qubit, Logger\n",
    "Logger.activate(Logger)"
   ]
  },
  {
   "cell_type": "markdown",
   "metadata": {},
   "source": [
    "#### Ao importar as dependências, vamos instaciar a rede com 10 qubits em cada host e 10 pares EPRS em cada canal da topologia. "
   ]
  },
  {
   "cell_type": "code",
   "execution_count": 2,
   "metadata": {},
   "outputs": [
    {
     "name": "stderr",
     "output_type": "stream",
     "text": [
      "2024-07-15 14:31:53,314: Qubit 0 adicionado à memória do Host 0.\n",
      "2024-07-15 14:31:53,319: Qubit 0 criado com fidelidade inicial 0.9580686954554891 e adicionado à memória do Host 0.\n",
      "2024-07-15 14:31:53,323: Qubit 1 adicionado à memória do Host 0.\n",
      "2024-07-15 14:31:53,325: Qubit 1 criado com fidelidade inicial 0.6128839465148904 e adicionado à memória do Host 0.\n",
      "2024-07-15 14:31:53,327: Qubit 2 adicionado à memória do Host 0.\n",
      "2024-07-15 14:31:53,329: Qubit 2 criado com fidelidade inicial 0.3072087455064305 e adicionado à memória do Host 0.\n",
      "2024-07-15 14:31:53,332: Qubit 3 adicionado à memória do Host 0.\n",
      "2024-07-15 14:31:53,334: Qubit 3 criado com fidelidade inicial 0.8400911337075713 e adicionado à memória do Host 0.\n",
      "2024-07-15 14:31:53,337: Qubit 4 adicionado à memória do Host 0.\n",
      "2024-07-15 14:31:53,338: Qubit 4 criado com fidelidade inicial 0.35255141529540346 e adicionado à memória do Host 0.\n",
      "2024-07-15 14:31:53,339: Qubit 5 adicionado à memória do Host 0.\n",
      "2024-07-15 14:31:53,341: Qubit 5 criado com fidelidade inicial 0.9771499893792404 e adicionado à memória do Host 0.\n",
      "2024-07-15 14:31:53,341: Qubit 6 adicionado à memória do Host 0.\n",
      "2024-07-15 14:31:53,342: Qubit 6 criado com fidelidade inicial 0.9437628654125508 e adicionado à memória do Host 0.\n",
      "2024-07-15 14:31:53,342: Qubit 7 adicionado à memória do Host 0.\n",
      "2024-07-15 14:31:53,343: Qubit 7 criado com fidelidade inicial 0.18501618223312466 e adicionado à memória do Host 0.\n",
      "2024-07-15 14:31:53,343: Qubit 8 adicionado à memória do Host 0.\n",
      "2024-07-15 14:31:53,343: Qubit 8 criado com fidelidade inicial 0.6302759175935938 e adicionado à memória do Host 0.\n",
      "2024-07-15 14:31:53,344: Qubit 9 adicionado à memória do Host 0.\n",
      "2024-07-15 14:31:53,345: Qubit 9 criado com fidelidade inicial 0.8515498219395182 e adicionado à memória do Host 0.\n",
      "2024-07-15 14:31:53,345: Qubit 10 adicionado à memória do Host 1.\n",
      "2024-07-15 14:31:53,347: Qubit 10 criado com fidelidade inicial 0.9037131081277163 e adicionado à memória do Host 1.\n",
      "2024-07-15 14:31:53,347: Qubit 11 adicionado à memória do Host 1.\n",
      "2024-07-15 14:31:53,348: Qubit 11 criado com fidelidade inicial 0.43649287034673645 e adicionado à memória do Host 1.\n",
      "2024-07-15 14:31:53,348: Qubit 12 adicionado à memória do Host 1.\n",
      "2024-07-15 14:31:53,349: Qubit 12 criado com fidelidade inicial 0.4780280011393264 e adicionado à memória do Host 1.\n",
      "2024-07-15 14:31:53,349: Qubit 13 adicionado à memória do Host 1.\n",
      "2024-07-15 14:31:53,350: Qubit 13 criado com fidelidade inicial 0.9474239340328083 e adicionado à memória do Host 1.\n",
      "2024-07-15 14:31:53,351: Qubit 14 adicionado à memória do Host 1.\n",
      "2024-07-15 14:31:53,351: Qubit 14 criado com fidelidade inicial 0.8146765391051114 e adicionado à memória do Host 1.\n",
      "2024-07-15 14:31:53,353: Qubit 15 adicionado à memória do Host 1.\n",
      "2024-07-15 14:31:53,353: Qubit 15 criado com fidelidade inicial 0.36124788023510124 e adicionado à memória do Host 1.\n",
      "2024-07-15 14:31:53,353: Qubit 16 adicionado à memória do Host 1.\n",
      "2024-07-15 14:31:53,354: Qubit 16 criado com fidelidade inicial 0.6583548131204526 e adicionado à memória do Host 1.\n",
      "2024-07-15 14:31:53,355: Qubit 17 adicionado à memória do Host 1.\n",
      "2024-07-15 14:31:53,355: Qubit 17 criado com fidelidade inicial 0.35795052466156985 e adicionado à memória do Host 1.\n",
      "2024-07-15 14:31:53,356: Qubit 18 adicionado à memória do Host 1.\n",
      "2024-07-15 14:31:53,357: Qubit 18 criado com fidelidade inicial 0.9428331522984383 e adicionado à memória do Host 1.\n",
      "2024-07-15 14:31:53,357: Qubit 19 adicionado à memória do Host 1.\n",
      "2024-07-15 14:31:53,358: Qubit 19 criado com fidelidade inicial 0.11299422976100404 e adicionado à memória do Host 1.\n",
      "2024-07-15 14:31:53,358: Qubit 20 adicionado à memória do Host 2.\n",
      "2024-07-15 14:31:53,359: Qubit 20 criado com fidelidade inicial 0.3830748555240088 e adicionado à memória do Host 2.\n",
      "2024-07-15 14:31:53,359: Qubit 21 adicionado à memória do Host 2.\n",
      "2024-07-15 14:31:53,360: Qubit 21 criado com fidelidade inicial 0.13850369889811698 e adicionado à memória do Host 2.\n",
      "2024-07-15 14:31:53,362: Qubit 22 adicionado à memória do Host 2.\n",
      "2024-07-15 14:31:53,363: Qubit 22 criado com fidelidade inicial 0.9002895293819131 e adicionado à memória do Host 2.\n",
      "2024-07-15 14:31:53,364: Qubit 23 adicionado à memória do Host 2.\n",
      "2024-07-15 14:31:53,365: Qubit 23 criado com fidelidade inicial 0.9243406129060655 e adicionado à memória do Host 2.\n",
      "2024-07-15 14:31:53,365: Qubit 24 adicionado à memória do Host 2.\n",
      "2024-07-15 14:31:53,366: Qubit 24 criado com fidelidade inicial 0.028662880560024306 e adicionado à memória do Host 2.\n",
      "2024-07-15 14:31:53,366: Qubit 25 adicionado à memória do Host 2.\n",
      "2024-07-15 14:31:53,367: Qubit 25 criado com fidelidade inicial 0.703974242668385 e adicionado à memória do Host 2.\n",
      "2024-07-15 14:31:53,368: Qubit 26 adicionado à memória do Host 2.\n",
      "2024-07-15 14:31:53,370: Qubit 26 criado com fidelidade inicial 0.8555255954865948 e adicionado à memória do Host 2.\n",
      "2024-07-15 14:31:53,371: Qubit 27 adicionado à memória do Host 2.\n",
      "2024-07-15 14:31:53,372: Qubit 27 criado com fidelidade inicial 0.5454662563076234 e adicionado à memória do Host 2.\n",
      "2024-07-15 14:31:53,373: Qubit 28 adicionado à memória do Host 2.\n",
      "2024-07-15 14:31:53,374: Qubit 28 criado com fidelidade inicial 0.8903954954203895 e adicionado à memória do Host 2.\n",
      "2024-07-15 14:31:53,374: Qubit 29 adicionado à memória do Host 2.\n",
      "2024-07-15 14:31:53,375: Qubit 29 criado com fidelidade inicial 0.41301583457154223 e adicionado à memória do Host 2.\n",
      "2024-07-15 14:31:53,376: Qubit 30 adicionado à memória do Host 3.\n",
      "2024-07-15 14:31:53,377: Qubit 30 criado com fidelidade inicial 0.8512443834790406 e adicionado à memória do Host 3.\n",
      "2024-07-15 14:31:53,377: Qubit 31 adicionado à memória do Host 3.\n",
      "2024-07-15 14:31:53,378: Qubit 31 criado com fidelidade inicial 0.9172986938626643 e adicionado à memória do Host 3.\n",
      "2024-07-15 14:31:53,379: Qubit 32 adicionado à memória do Host 3.\n",
      "2024-07-15 14:31:53,379: Qubit 32 criado com fidelidade inicial 0.680345498726515 e adicionado à memória do Host 3.\n",
      "2024-07-15 14:31:53,382: Qubit 33 adicionado à memória do Host 3.\n",
      "2024-07-15 14:31:53,383: Qubit 33 criado com fidelidade inicial 0.24254356066040605 e adicionado à memória do Host 3.\n",
      "2024-07-15 14:31:53,389: Qubit 34 adicionado à memória do Host 3.\n",
      "2024-07-15 14:31:53,391: Qubit 34 criado com fidelidade inicial 0.9902356401041084 e adicionado à memória do Host 3.\n",
      "2024-07-15 14:31:53,392: Qubit 35 adicionado à memória do Host 3.\n",
      "2024-07-15 14:31:53,392: Qubit 35 criado com fidelidade inicial 0.4453280842996631 e adicionado à memória do Host 3.\n",
      "2024-07-15 14:31:53,393: Qubit 36 adicionado à memória do Host 3.\n",
      "2024-07-15 14:31:53,394: Qubit 36 criado com fidelidade inicial 0.7271470211673651 e adicionado à memória do Host 3.\n",
      "2024-07-15 14:31:53,398: Qubit 37 adicionado à memória do Host 3.\n",
      "2024-07-15 14:31:53,399: Qubit 37 criado com fidelidade inicial 0.6823625856714207 e adicionado à memória do Host 3.\n",
      "2024-07-15 14:31:53,400: Qubit 38 adicionado à memória do Host 3.\n",
      "2024-07-15 14:31:53,400: Qubit 38 criado com fidelidade inicial 0.5087238198873815 e adicionado à memória do Host 3.\n",
      "2024-07-15 14:31:53,401: Qubit 39 adicionado à memória do Host 3.\n",
      "2024-07-15 14:31:53,404: Qubit 39 criado com fidelidade inicial 0.4102926248810609 e adicionado à memória do Host 3.\n",
      "2024-07-15 14:31:53,405: Qubit 40 adicionado à memória do Host 4.\n",
      "2024-07-15 14:31:53,406: Qubit 40 criado com fidelidade inicial 0.18519765469373217 e adicionado à memória do Host 4.\n",
      "2024-07-15 14:31:53,412: Qubit 41 adicionado à memória do Host 4.\n",
      "2024-07-15 14:31:53,413: Qubit 41 criado com fidelidade inicial 0.9551484489962568 e adicionado à memória do Host 4.\n",
      "2024-07-15 14:31:53,415: Qubit 42 adicionado à memória do Host 4.\n",
      "2024-07-15 14:31:53,416: Qubit 42 criado com fidelidade inicial 0.9011438492586544 e adicionado à memória do Host 4.\n",
      "2024-07-15 14:31:53,417: Qubit 43 adicionado à memória do Host 4.\n",
      "2024-07-15 14:31:53,417: Qubit 43 criado com fidelidade inicial 0.8390421473763477 e adicionado à memória do Host 4.\n",
      "2024-07-15 14:31:53,422: Qubit 44 adicionado à memória do Host 4.\n",
      "2024-07-15 14:31:53,423: Qubit 44 criado com fidelidade inicial 0.9299542509143756 e adicionado à memória do Host 4.\n",
      "2024-07-15 14:31:53,424: Qubit 45 adicionado à memória do Host 4.\n",
      "2024-07-15 14:31:53,426: Qubit 45 criado com fidelidade inicial 0.5540957197463066 e adicionado à memória do Host 4.\n",
      "2024-07-15 14:31:53,432: Qubit 46 adicionado à memória do Host 4.\n",
      "2024-07-15 14:31:53,433: Qubit 46 criado com fidelidade inicial 0.12251602861208033 e adicionado à memória do Host 4.\n",
      "2024-07-15 14:31:53,435: Qubit 47 adicionado à memória do Host 4.\n",
      "2024-07-15 14:31:53,436: Qubit 47 criado com fidelidade inicial 0.09196054505151707 e adicionado à memória do Host 4.\n",
      "2024-07-15 14:31:53,437: Qubit 48 adicionado à memória do Host 4.\n",
      "2024-07-15 14:31:53,437: Qubit 48 criado com fidelidade inicial 0.9752638119159264 e adicionado à memória do Host 4.\n",
      "2024-07-15 14:31:53,438: Qubit 49 adicionado à memória do Host 4.\n",
      "2024-07-15 14:31:53,438: Qubit 49 criado com fidelidade inicial 0.7416039787151222 e adicionado à memória do Host 4.\n",
      "2024-07-15 14:31:53,438: Qubit 50 adicionado à memória do Host 5.\n",
      "2024-07-15 14:31:53,439: Qubit 50 criado com fidelidade inicial 0.29918662559525 e adicionado à memória do Host 5.\n",
      "2024-07-15 14:31:53,439: Qubit 51 adicionado à memória do Host 5.\n",
      "2024-07-15 14:31:53,440: Qubit 51 criado com fidelidade inicial 0.048036509490124946 e adicionado à memória do Host 5.\n",
      "2024-07-15 14:31:53,440: Qubit 52 adicionado à memória do Host 5.\n",
      "2024-07-15 14:31:53,440: Qubit 52 criado com fidelidade inicial 0.06338713424189912 e adicionado à memória do Host 5.\n",
      "2024-07-15 14:31:53,441: Qubit 53 adicionado à memória do Host 5.\n",
      "2024-07-15 14:31:53,441: Qubit 53 criado com fidelidade inicial 0.6268455526490904 e adicionado à memória do Host 5.\n",
      "2024-07-15 14:31:53,442: Qubit 54 adicionado à memória do Host 5.\n",
      "2024-07-15 14:31:53,444: Qubit 54 criado com fidelidade inicial 0.9776604318032095 e adicionado à memória do Host 5.\n",
      "2024-07-15 14:31:53,445: Qubit 55 adicionado à memória do Host 5.\n",
      "2024-07-15 14:31:53,446: Qubit 55 criado com fidelidade inicial 0.5699167210924048 e adicionado à memória do Host 5.\n",
      "2024-07-15 14:31:53,446: Qubit 56 adicionado à memória do Host 5.\n",
      "2024-07-15 14:31:53,447: Qubit 56 criado com fidelidade inicial 0.6426911764305181 e adicionado à memória do Host 5.\n",
      "2024-07-15 14:31:53,449: Qubit 57 adicionado à memória do Host 5.\n",
      "2024-07-15 14:31:53,450: Qubit 57 criado com fidelidade inicial 0.06644713680554859 e adicionado à memória do Host 5.\n",
      "2024-07-15 14:31:53,450: Qubit 58 adicionado à memória do Host 5.\n",
      "2024-07-15 14:31:53,451: Qubit 58 criado com fidelidade inicial 0.8287288100294549 e adicionado à memória do Host 5.\n",
      "2024-07-15 14:31:53,451: Qubit 59 adicionado à memória do Host 5.\n",
      "2024-07-15 14:31:53,451: Qubit 59 criado com fidelidade inicial 0.5426354457131253 e adicionado à memória do Host 5.\n",
      "2024-07-15 14:31:53,452: Qubit 60 adicionado à memória do Host 6.\n",
      "2024-07-15 14:31:53,452: Qubit 60 criado com fidelidade inicial 0.5602556584472606 e adicionado à memória do Host 6.\n",
      "2024-07-15 14:31:53,453: Qubit 61 adicionado à memória do Host 6.\n",
      "2024-07-15 14:31:53,453: Qubit 61 criado com fidelidade inicial 0.17388281408729 e adicionado à memória do Host 6.\n",
      "2024-07-15 14:31:53,453: Qubit 62 adicionado à memória do Host 6.\n",
      "2024-07-15 14:31:53,454: Qubit 62 criado com fidelidade inicial 0.7990705489099764 e adicionado à memória do Host 6.\n",
      "2024-07-15 14:31:53,455: Qubit 63 adicionado à memória do Host 6.\n",
      "2024-07-15 14:31:53,456: Qubit 63 criado com fidelidade inicial 0.11794804938654546 e adicionado à memória do Host 6.\n",
      "2024-07-15 14:31:53,456: Qubit 64 adicionado à memória do Host 6.\n",
      "2024-07-15 14:31:53,457: Qubit 64 criado com fidelidade inicial 0.13472983481059486 e adicionado à memória do Host 6.\n",
      "2024-07-15 14:31:53,457: Qubit 65 adicionado à memória do Host 6.\n",
      "2024-07-15 14:31:53,457: Qubit 65 criado com fidelidade inicial 0.8178667967037054 e adicionado à memória do Host 6.\n",
      "2024-07-15 14:31:53,458: Qubit 66 adicionado à memória do Host 6.\n",
      "2024-07-15 14:31:53,458: Qubit 66 criado com fidelidade inicial 0.18940153400054605 e adicionado à memória do Host 6.\n",
      "2024-07-15 14:31:53,458: Qubit 67 adicionado à memória do Host 6.\n",
      "2024-07-15 14:31:53,510: Qubit 67 criado com fidelidade inicial 0.28344322446897585 e adicionado à memória do Host 6.\n",
      "2024-07-15 14:31:53,510: Qubit 68 adicionado à memória do Host 6.\n",
      "2024-07-15 14:31:53,511: Qubit 68 criado com fidelidade inicial 0.5089858005390385 e adicionado à memória do Host 6.\n",
      "2024-07-15 14:31:53,512: Qubit 69 adicionado à memória do Host 6.\n",
      "2024-07-15 14:31:53,512: Qubit 69 criado com fidelidade inicial 0.01637172829417477 e adicionado à memória do Host 6.\n",
      "2024-07-15 14:31:53,514: Qubit 70 adicionado à memória do Host 7.\n",
      "2024-07-15 14:31:53,514: Qubit 70 criado com fidelidade inicial 0.21611410216322002 e adicionado à memória do Host 7.\n",
      "2024-07-15 14:31:53,515: Qubit 71 adicionado à memória do Host 7.\n",
      "2024-07-15 14:31:53,515: Qubit 71 criado com fidelidade inicial 0.7636477200820645 e adicionado à memória do Host 7.\n",
      "2024-07-15 14:31:53,516: Qubit 72 adicionado à memória do Host 7.\n",
      "2024-07-15 14:31:53,516: Qubit 72 criado com fidelidade inicial 0.2449121213097598 e adicionado à memória do Host 7.\n",
      "2024-07-15 14:31:53,516: Qubit 73 adicionado à memória do Host 7.\n",
      "2024-07-15 14:31:53,517: Qubit 73 criado com fidelidade inicial 0.9425361379787442 e adicionado à memória do Host 7.\n",
      "2024-07-15 14:31:53,517: Qubit 74 adicionado à memória do Host 7.\n",
      "2024-07-15 14:31:53,518: Qubit 74 criado com fidelidade inicial 0.601448188059299 e adicionado à memória do Host 7.\n",
      "2024-07-15 14:31:53,518: Qubit 75 adicionado à memória do Host 7.\n",
      "2024-07-15 14:31:53,519: Qubit 75 criado com fidelidade inicial 0.5251120417090255 e adicionado à memória do Host 7.\n",
      "2024-07-15 14:31:53,520: Qubit 76 adicionado à memória do Host 7.\n",
      "2024-07-15 14:31:53,521: Qubit 76 criado com fidelidade inicial 0.21545117256864055 e adicionado à memória do Host 7.\n",
      "2024-07-15 14:31:53,522: Qubit 77 adicionado à memória do Host 7.\n",
      "2024-07-15 14:31:53,523: Qubit 77 criado com fidelidade inicial 0.43063252492274706 e adicionado à memória do Host 7.\n",
      "2024-07-15 14:31:53,523: Qubit 78 adicionado à memória do Host 7.\n",
      "2024-07-15 14:31:53,524: Qubit 78 criado com fidelidade inicial 0.7133048957096846 e adicionado à memória do Host 7.\n",
      "2024-07-15 14:31:53,524: Qubit 79 adicionado à memória do Host 7.\n",
      "2024-07-15 14:31:53,524: Qubit 79 criado com fidelidade inicial 0.008788510074639322 e adicionado à memória do Host 7.\n",
      "2024-07-15 14:31:53,525: Qubit 80 adicionado à memória do Host 8.\n",
      "2024-07-15 14:31:53,525: Qubit 80 criado com fidelidade inicial 0.5410421958301861 e adicionado à memória do Host 8.\n",
      "2024-07-15 14:31:53,525: Qubit 81 adicionado à memória do Host 8.\n",
      "2024-07-15 14:31:53,526: Qubit 81 criado com fidelidade inicial 0.8481498107843957 e adicionado à memória do Host 8.\n",
      "2024-07-15 14:31:53,527: Qubit 82 adicionado à memória do Host 8.\n",
      "2024-07-15 14:31:53,529: Qubit 82 criado com fidelidade inicial 0.8045815888687706 e adicionado à memória do Host 8.\n",
      "2024-07-15 14:31:53,530: Qubit 83 adicionado à memória do Host 8.\n",
      "2024-07-15 14:31:53,531: Qubit 83 criado com fidelidade inicial 0.7207648211638192 e adicionado à memória do Host 8.\n",
      "2024-07-15 14:31:53,532: Qubit 84 adicionado à memória do Host 8.\n",
      "2024-07-15 14:31:53,532: Qubit 84 criado com fidelidade inicial 0.06079086924096755 e adicionado à memória do Host 8.\n",
      "2024-07-15 14:31:53,533: Qubit 85 adicionado à memória do Host 8.\n",
      "2024-07-15 14:31:53,533: Qubit 85 criado com fidelidade inicial 0.013437078715428985 e adicionado à memória do Host 8.\n",
      "2024-07-15 14:31:53,534: Qubit 86 adicionado à memória do Host 8.\n",
      "2024-07-15 14:31:53,534: Qubit 86 criado com fidelidade inicial 0.8865623934435157 e adicionado à memória do Host 8.\n",
      "2024-07-15 14:31:53,535: Qubit 87 adicionado à memória do Host 8.\n",
      "2024-07-15 14:31:53,536: Qubit 87 criado com fidelidade inicial 0.18176859127322886 e adicionado à memória do Host 8.\n",
      "2024-07-15 14:31:53,537: Qubit 88 adicionado à memória do Host 8.\n",
      "2024-07-15 14:31:53,537: Qubit 88 criado com fidelidade inicial 0.20090927102278566 e adicionado à memória do Host 8.\n",
      "2024-07-15 14:31:53,538: Qubit 89 adicionado à memória do Host 8.\n",
      "2024-07-15 14:31:53,538: Qubit 89 criado com fidelidade inicial 0.10832004107191107 e adicionado à memória do Host 8.\n",
      "2024-07-15 14:31:53,539: Par EPR <quantumnet.objects.epr.Epr object at 0x7f045305bf70> adicionado ao canal.\n",
      "2024-07-15 14:31:53,539: Par EPR <quantumnet.objects.epr.Epr object at 0x7f045305ba00> adicionado ao canal.\n",
      "2024-07-15 14:31:53,539: Par EPR <quantumnet.objects.epr.Epr object at 0x7f0453057b80> adicionado ao canal.\n",
      "2024-07-15 14:31:53,540: Par EPR <quantumnet.objects.epr.Epr object at 0x7f045305b370> adicionado ao canal.\n",
      "2024-07-15 14:31:53,540: Par EPR <quantumnet.objects.epr.Epr object at 0x7f045305b700> adicionado ao canal.\n",
      "2024-07-15 14:31:53,540: Par EPR <quantumnet.objects.epr.Epr object at 0x7f045305bfa0> adicionado ao canal.\n",
      "2024-07-15 14:31:53,541: Par EPR <quantumnet.objects.epr.Epr object at 0x7f045305be50> adicionado ao canal.\n",
      "2024-07-15 14:31:53,541: Par EPR <quantumnet.objects.epr.Epr object at 0x7f045305b850> adicionado ao canal.\n",
      "2024-07-15 14:31:53,541: Par EPR <quantumnet.objects.epr.Epr object at 0x7f045305bb80> adicionado ao canal.\n",
      "2024-07-15 14:31:53,542: Par EPR <quantumnet.objects.epr.Epr object at 0x7f045305ba30> adicionado ao canal.\n",
      "2024-07-15 14:31:53,542: Par EPR <quantumnet.objects.epr.Epr object at 0x7f045305b790> adicionado ao canal.\n",
      "2024-07-15 14:31:53,545: Par EPR <quantumnet.objects.epr.Epr object at 0x7f045305b1c0> adicionado ao canal.\n",
      "2024-07-15 14:31:53,545: Par EPR <quantumnet.objects.epr.Epr object at 0x7f045305b310> adicionado ao canal.\n",
      "2024-07-15 14:31:53,546: Par EPR <quantumnet.objects.epr.Epr object at 0x7f045305e790> adicionado ao canal.\n",
      "2024-07-15 14:31:53,547: Par EPR <quantumnet.objects.epr.Epr object at 0x7f045305b670> adicionado ao canal.\n",
      "2024-07-15 14:31:53,548: Par EPR <quantumnet.objects.epr.Epr object at 0x7f045305e220> adicionado ao canal.\n",
      "2024-07-15 14:31:53,548: Par EPR <quantumnet.objects.epr.Epr object at 0x7f045305e7f0> adicionado ao canal.\n",
      "2024-07-15 14:31:53,548: Par EPR <quantumnet.objects.epr.Epr object at 0x7f045305b190> adicionado ao canal.\n",
      "2024-07-15 14:31:53,549: Par EPR <quantumnet.objects.epr.Epr object at 0x7f045305e340> adicionado ao canal.\n",
      "2024-07-15 14:31:53,549: Par EPR <quantumnet.objects.epr.Epr object at 0x7f045305e130> adicionado ao canal.\n",
      "2024-07-15 14:31:53,552: Par EPR <quantumnet.objects.epr.Epr object at 0x7f045305e6d0> adicionado ao canal.\n",
      "2024-07-15 14:31:53,553: Par EPR <quantumnet.objects.epr.Epr object at 0x7f045305e3a0> adicionado ao canal.\n",
      "2024-07-15 14:31:53,554: Par EPR <quantumnet.objects.epr.Epr object at 0x7f045305e100> adicionado ao canal.\n",
      "2024-07-15 14:31:53,554: Par EPR <quantumnet.objects.epr.Epr object at 0x7f045305e7c0> adicionado ao canal.\n",
      "2024-07-15 14:31:53,555: Par EPR <quantumnet.objects.epr.Epr object at 0x7f045305e310> adicionado ao canal.\n",
      "2024-07-15 14:31:53,555: Par EPR <quantumnet.objects.epr.Epr object at 0x7f045305e520> adicionado ao canal.\n",
      "2024-07-15 14:31:53,556: Par EPR <quantumnet.objects.epr.Epr object at 0x7f045305e070> adicionado ao canal.\n",
      "2024-07-15 14:31:53,556: Par EPR <quantumnet.objects.epr.Epr object at 0x7f045305e190> adicionado ao canal.\n",
      "2024-07-15 14:31:53,557: Par EPR <quantumnet.objects.epr.Epr object at 0x7f045305e4c0> adicionado ao canal.\n",
      "2024-07-15 14:31:53,558: Par EPR <quantumnet.objects.epr.Epr object at 0x7f045305e490> adicionado ao canal.\n",
      "2024-07-15 14:31:53,558: Par EPR <quantumnet.objects.epr.Epr object at 0x7f045305ec70> adicionado ao canal.\n",
      "2024-07-15 14:31:53,558: Par EPR <quantumnet.objects.epr.Epr object at 0x7f045305ef10> adicionado ao canal.\n",
      "2024-07-15 14:31:53,559: Par EPR <quantumnet.objects.epr.Epr object at 0x7f045305e2b0> adicionado ao canal.\n",
      "2024-07-15 14:31:53,559: Par EPR <quantumnet.objects.epr.Epr object at 0x7f045305e3d0> adicionado ao canal.\n",
      "2024-07-15 14:31:53,560: Par EPR <quantumnet.objects.epr.Epr object at 0x7f045305eb50> adicionado ao canal.\n",
      "2024-07-15 14:31:53,560: Par EPR <quantumnet.objects.epr.Epr object at 0x7f045305efd0> adicionado ao canal.\n",
      "2024-07-15 14:31:53,561: Par EPR <quantumnet.objects.epr.Epr object at 0x7f045305e550> adicionado ao canal.\n",
      "2024-07-15 14:31:53,563: Par EPR <quantumnet.objects.epr.Epr object at 0x7f045305ea00> adicionado ao canal.\n",
      "2024-07-15 14:31:53,564: Par EPR <quantumnet.objects.epr.Epr object at 0x7f045305e880> adicionado ao canal.\n",
      "2024-07-15 14:31:53,564: Par EPR <quantumnet.objects.epr.Epr object at 0x7f045305e2e0> adicionado ao canal.\n",
      "2024-07-15 14:31:53,565: Par EPR <quantumnet.objects.epr.Epr object at 0x7f045305e4f0> adicionado ao canal.\n",
      "2024-07-15 14:31:53,565: Par EPR <quantumnet.objects.epr.Epr object at 0x7f045305e910> adicionado ao canal.\n",
      "2024-07-15 14:31:53,568: Par EPR <quantumnet.objects.epr.Epr object at 0x7f045305e430> adicionado ao canal.\n",
      "2024-07-15 14:31:53,569: Par EPR <quantumnet.objects.epr.Epr object at 0x7f045305ea60> adicionado ao canal.\n",
      "2024-07-15 14:31:53,570: Par EPR <quantumnet.objects.epr.Epr object at 0x7f045305e610> adicionado ao canal.\n",
      "2024-07-15 14:31:53,571: Par EPR <quantumnet.objects.epr.Epr object at 0x7f045305eb20> adicionado ao canal.\n",
      "2024-07-15 14:31:53,573: Par EPR <quantumnet.objects.epr.Epr object at 0x7f045305e9a0> adicionado ao canal.\n",
      "2024-07-15 14:31:53,574: Par EPR <quantumnet.objects.epr.Epr object at 0x7f045305feb0> adicionado ao canal.\n",
      "2024-07-15 14:31:53,576: Par EPR <quantumnet.objects.epr.Epr object at 0x7f045305f580> adicionado ao canal.\n",
      "2024-07-15 14:31:53,577: Par EPR <quantumnet.objects.epr.Epr object at 0x7f045305f6a0> adicionado ao canal.\n",
      "2024-07-15 14:31:53,578: Par EPR <quantumnet.objects.epr.Epr object at 0x7f045305efa0> adicionado ao canal.\n",
      "2024-07-15 14:31:53,578: Par EPR <quantumnet.objects.epr.Epr object at 0x7f045305ff40> adicionado ao canal.\n",
      "2024-07-15 14:31:53,579: Par EPR <quantumnet.objects.epr.Epr object at 0x7f045305fe50> adicionado ao canal.\n",
      "2024-07-15 14:31:53,582: Par EPR <quantumnet.objects.epr.Epr object at 0x7f045305f7f0> adicionado ao canal.\n",
      "2024-07-15 14:31:53,583: Par EPR <quantumnet.objects.epr.Epr object at 0x7f045305ffd0> adicionado ao canal.\n",
      "2024-07-15 14:31:53,585: Par EPR <quantumnet.objects.epr.Epr object at 0x7f045305f5b0> adicionado ao canal.\n",
      "2024-07-15 14:31:53,587: Par EPR <quantumnet.objects.epr.Epr object at 0x7f045305fc10> adicionado ao canal.\n",
      "2024-07-15 14:31:53,588: Par EPR <quantumnet.objects.epr.Epr object at 0x7f045305fa30> adicionado ao canal.\n",
      "2024-07-15 14:31:53,588: Par EPR <quantumnet.objects.epr.Epr object at 0x7f045305fb50> adicionado ao canal.\n",
      "2024-07-15 14:31:53,589: Par EPR <quantumnet.objects.epr.Epr object at 0x7f045305fc70> adicionado ao canal.\n",
      "2024-07-15 14:31:53,590: Par EPR <quantumnet.objects.epr.Epr object at 0x7f045305f5e0> adicionado ao canal.\n",
      "2024-07-15 14:31:53,590: Par EPR <quantumnet.objects.epr.Epr object at 0x7f045305fc40> adicionado ao canal.\n",
      "2024-07-15 14:31:53,591: Par EPR <quantumnet.objects.epr.Epr object at 0x7f045305fbb0> adicionado ao canal.\n",
      "2024-07-15 14:31:53,594: Par EPR <quantumnet.objects.epr.Epr object at 0x7f045305faf0> adicionado ao canal.\n",
      "2024-07-15 14:31:53,594: Par EPR <quantumnet.objects.epr.Epr object at 0x7f045305f070> adicionado ao canal.\n",
      "2024-07-15 14:31:53,595: Par EPR <quantumnet.objects.epr.Epr object at 0x7f045305fac0> adicionado ao canal.\n",
      "2024-07-15 14:31:53,595: Par EPR <quantumnet.objects.epr.Epr object at 0x7f045305fd60> adicionado ao canal.\n",
      "2024-07-15 14:31:53,597: Par EPR <quantumnet.objects.epr.Epr object at 0x7f045305fee0> adicionado ao canal.\n",
      "2024-07-15 14:31:53,598: Par EPR <quantumnet.objects.epr.Epr object at 0x7f045305f040> adicionado ao canal.\n",
      "2024-07-15 14:31:53,598: Par EPR <quantumnet.objects.epr.Epr object at 0x7f045305fd90> adicionado ao canal.\n",
      "2024-07-15 14:31:53,599: Par EPR <quantumnet.objects.epr.Epr object at 0x7f045305fb20> adicionado ao canal.\n",
      "2024-07-15 14:31:53,600: Par EPR <quantumnet.objects.epr.Epr object at 0x7f045305f310> adicionado ao canal.\n",
      "2024-07-15 14:31:53,601: Par EPR <quantumnet.objects.epr.Epr object at 0x7f045305f160> adicionado ao canal.\n",
      "2024-07-15 14:31:53,602: Par EPR <quantumnet.objects.epr.Epr object at 0x7f045305fa00> adicionado ao canal.\n",
      "2024-07-15 14:31:53,602: Par EPR <quantumnet.objects.epr.Epr object at 0x7f045305f0d0> adicionado ao canal.\n",
      "2024-07-15 14:31:53,603: Par EPR <quantumnet.objects.epr.Epr object at 0x7f045305f250> adicionado ao canal.\n",
      "2024-07-15 14:31:53,604: Par EPR <quantumnet.objects.epr.Epr object at 0x7f045305f550> adicionado ao canal.\n",
      "2024-07-15 14:31:53,607: Par EPR <quantumnet.objects.epr.Epr object at 0x7f045305f430> adicionado ao canal.\n",
      "2024-07-15 14:31:53,609: Par EPR <quantumnet.objects.epr.Epr object at 0x7f045305f670> adicionado ao canal.\n",
      "2024-07-15 14:31:53,614: Par EPR <quantumnet.objects.epr.Epr object at 0x7f045305f850> adicionado ao canal.\n",
      "2024-07-15 14:31:53,615: Par EPR <quantumnet.objects.epr.Epr object at 0x7f045305f2e0> adicionado ao canal.\n",
      "2024-07-15 14:31:53,617: Par EPR <quantumnet.objects.epr.Epr object at 0x7f045305f4c0> adicionado ao canal.\n",
      "2024-07-15 14:31:53,621: Par EPR <quantumnet.objects.epr.Epr object at 0x7f045305f970> adicionado ao canal.\n",
      "2024-07-15 14:31:53,624: Par EPR <quantumnet.objects.epr.Epr object at 0x7f045305f820> adicionado ao canal.\n",
      "2024-07-15 14:31:53,633: Par EPR <quantumnet.objects.epr.Epr object at 0x7f045305f8e0> adicionado ao canal.\n",
      "2024-07-15 14:31:53,637: Par EPR <quantumnet.objects.epr.Epr object at 0x7f045305f8b0> adicionado ao canal.\n",
      "2024-07-15 14:31:53,641: Par EPR <quantumnet.objects.epr.Epr object at 0x7f045305f9a0> adicionado ao canal.\n",
      "2024-07-15 14:31:53,644: Par EPR <quantumnet.objects.epr.Epr object at 0x7f045305f100> adicionado ao canal.\n",
      "2024-07-15 14:31:53,644: Par EPR <quantumnet.objects.epr.Epr object at 0x7f045013de50> adicionado ao canal.\n",
      "2024-07-15 14:31:53,645: Par EPR <quantumnet.objects.epr.Epr object at 0x7f045013de20> adicionado ao canal.\n",
      "2024-07-15 14:31:53,647: Par EPR <quantumnet.objects.epr.Epr object at 0x7f045305f490> adicionado ao canal.\n",
      "2024-07-15 14:31:53,649: Par EPR <quantumnet.objects.epr.Epr object at 0x7f045013d1f0> adicionado ao canal.\n",
      "2024-07-15 14:31:53,650: Par EPR <quantumnet.objects.epr.Epr object at 0x7f045013d250> adicionado ao canal.\n",
      "2024-07-15 14:31:53,653: Par EPR <quantumnet.objects.epr.Epr object at 0x7f045013d2b0> adicionado ao canal.\n",
      "2024-07-15 14:31:53,659: Par EPR <quantumnet.objects.epr.Epr object at 0x7f045013d130> adicionado ao canal.\n",
      "2024-07-15 14:31:53,661: Par EPR <quantumnet.objects.epr.Epr object at 0x7f045013d3d0> adicionado ao canal.\n",
      "2024-07-15 14:31:53,661: Par EPR <quantumnet.objects.epr.Epr object at 0x7f045013d100> adicionado ao canal.\n",
      "2024-07-15 14:31:53,662: Par EPR <quantumnet.objects.epr.Epr object at 0x7f045013dfa0> adicionado ao canal.\n",
      "2024-07-15 14:31:53,663: Par EPR <quantumnet.objects.epr.Epr object at 0x7f045013ddc0> adicionado ao canal.\n",
      "2024-07-15 14:31:53,663: Par EPR <quantumnet.objects.epr.Epr object at 0x7f045013d040> adicionado ao canal.\n",
      "2024-07-15 14:31:53,663: Par EPR <quantumnet.objects.epr.Epr object at 0x7f045013d3a0> adicionado ao canal.\n",
      "2024-07-15 14:31:53,664: Par EPR <quantumnet.objects.epr.Epr object at 0x7f0450156040> adicionado ao canal.\n",
      "2024-07-15 14:31:53,664: Par EPR <quantumnet.objects.epr.Epr object at 0x7f0450156070> adicionado ao canal.\n",
      "2024-07-15 14:31:53,664: Par EPR <quantumnet.objects.epr.Epr object at 0x7f0450156130> adicionado ao canal.\n",
      "2024-07-15 14:31:53,665: Par EPR <quantumnet.objects.epr.Epr object at 0x7f04501560a0> adicionado ao canal.\n",
      "2024-07-15 14:31:53,665: Par EPR <quantumnet.objects.epr.Epr object at 0x7f04501560d0> adicionado ao canal.\n",
      "2024-07-15 14:31:53,665: Par EPR <quantumnet.objects.epr.Epr object at 0x7f0450156160> adicionado ao canal.\n",
      "2024-07-15 14:31:53,666: Par EPR <quantumnet.objects.epr.Epr object at 0x7f04501561c0> adicionado ao canal.\n",
      "2024-07-15 14:31:53,666: Par EPR <quantumnet.objects.epr.Epr object at 0x7f0450156220> adicionado ao canal.\n",
      "2024-07-15 14:31:53,666: Par EPR <quantumnet.objects.epr.Epr object at 0x7f0450156280> adicionado ao canal.\n",
      "2024-07-15 14:31:53,666: Par EPR <quantumnet.objects.epr.Epr object at 0x7f045013d400> adicionado ao canal.\n",
      "2024-07-15 14:31:53,667: Par EPR <quantumnet.objects.epr.Epr object at 0x7f0450156340> adicionado ao canal.\n",
      "2024-07-15 14:31:53,667: Par EPR <quantumnet.objects.epr.Epr object at 0x7f04501563a0> adicionado ao canal.\n",
      "2024-07-15 14:31:53,667: Par EPR <quantumnet.objects.epr.Epr object at 0x7f0450156400> adicionado ao canal.\n",
      "2024-07-15 14:31:53,668: Par EPR <quantumnet.objects.epr.Epr object at 0x7f0450156460> adicionado ao canal.\n",
      "2024-07-15 14:31:53,668: Par EPR <quantumnet.objects.epr.Epr object at 0x7f04501564c0> adicionado ao canal.\n",
      "2024-07-15 14:31:53,668: Par EPR <quantumnet.objects.epr.Epr object at 0x7f0450156520> adicionado ao canal.\n",
      "2024-07-15 14:31:53,669: Par EPR <quantumnet.objects.epr.Epr object at 0x7f0450156580> adicionado ao canal.\n",
      "2024-07-15 14:31:53,669: Par EPR <quantumnet.objects.epr.Epr object at 0x7f04501565e0> adicionado ao canal.\n",
      "2024-07-15 14:31:53,670: Par EPR <quantumnet.objects.epr.Epr object at 0x7f0450156640> adicionado ao canal.\n"
     ]
    },
    {
     "name": "stdout",
     "output_type": "stream",
     "text": [
      "Hosts inicializados\n",
      "Canais inicializados\n",
      "Pares EPRs adicionados\n"
     ]
    },
    {
     "data": {
      "image/png": "[encoded data removed]",
      "text/plain": [
       "<Figure size 640x480 with 1 Axes>"
      ]
     },
     "metadata": {},
     "output_type": "display_data"
    }
   ],
   "source": [
    "rede = Network()\n",
    "rede.set_ready_topology(\"Grade\", 3,3)\n",
    "rede.draw()"
   ]
  },
  {
   "cell_type": "markdown",
   "metadata": {},
   "source": [
    "##### Logo, vamos atribuir os hosts 0 e 8, respectivamente, para Alice e Bob."
   ]
  },
  {
   "cell_type": "code",
   "execution_count": 3,
   "metadata": {},
   "outputs": [],
   "source": [
    "alice = rede.get_host(0)\n",
    "bob = rede.get_host(8)\n"
   ]
  },
  {
   "cell_type": "markdown",
   "metadata": {},
   "source": [
    "##### Para haver a transmissão de um qubit de Alice para Bob, utiliza-se o método request_transmission, que dado os seus parâmetros, Alice, Bob e o número de qubits que desaja transmitir entre eles. Esse método gera uma requisição para haver a transmissão."
   ]
  },
  {
   "cell_type": "code",
   "execution_count": 10,
   "metadata": {},
   "outputs": [
    {
     "name": "stderr",
     "output_type": "stream",
     "text": [
      "2024-07-15 17:12:44,158: Rota válida encontrada: [0, 3, 6, 7, 8]\n",
      "2024-07-15 17:12:44,162: Rota válida encontrada: [0, 3, 6, 7, 8]\n",
      "2024-07-15 17:12:44,172: Rota válida encontrada: [0, 3, 6, 7, 8]\n",
      "2024-07-15 17:12:44,174: Rota válida encontrada: [0, 3, 6, 7, 8]\n",
      "2024-07-15 17:12:44,176: Rota válida encontrada: [0, 3, 6, 7, 8]\n",
      "2024-07-15 17:12:44,179: Rota válida encontrada: [0, 3, 6, 7, 8]\n",
      "2024-07-15 17:12:44,184: Rota válida encontrada: [0, 3, 6, 7, 8]\n",
      "2024-07-15 17:12:44,187: Rota válida encontrada: [0, 3, 6, 7, 8]\n",
      "2024-07-15 17:12:44,189: Rota válida encontrada: [0, 3, 6, 7, 8]\n",
      "2024-07-15 17:12:44,193: Rota válida encontrada: [0, 3, 6, 7, 8]\n",
      "2024-07-15 17:12:44,194: Transmissão de 10 qubits entre 0 e 8 concluída com sucesso.\n"
     ]
    },
    {
     "data": {
      "text/plain": [
       "True"
      ]
     },
     "execution_count": 10,
     "metadata": {},
     "output_type": "execute_result"
    }
   ],
   "source": [
    "rede.transportlayer.request_transmission(0,8, 10)"
   ]
  },
  {
   "cell_type": "markdown",
   "metadata": {},
   "source": [
    "##### Verifica-se, primeiramente, a mémoria de Alice e Bob antes da transmissão."
   ]
  },
  {
   "cell_type": "code",
   "execution_count": 5,
   "metadata": {},
   "outputs": [
    {
     "name": "stdout",
     "output_type": "stream",
     "text": [
      "memoria de alice: [<quantumnet.objects.qubit.Qubit object at 0x7f045012fa00>, <quantumnet.objects.qubit.Qubit object at 0x7f0451fe49a0>, <quantumnet.objects.qubit.Qubit object at 0x7f0450f30af0>, <quantumnet.objects.qubit.Qubit object at 0x7f04507012b0>, <quantumnet.objects.qubit.Qubit object at 0x7f0451f8ee80>, <quantumnet.objects.qubit.Qubit object at 0x7f04506fcb80>, <quantumnet.objects.qubit.Qubit object at 0x7f045012f700>, <quantumnet.objects.qubit.Qubit object at 0x7f045012f850>, <quantumnet.objects.qubit.Qubit object at 0x7f0451f8e640>, <quantumnet.objects.qubit.Qubit object at 0x7f045012f820>]\n",
      "memoria de bob: [<quantumnet.objects.qubit.Qubit object at 0x7f04504ef910>, <quantumnet.objects.qubit.Qubit object at 0x7f0453057fa0>, <quantumnet.objects.qubit.Qubit object at 0x7f045305bd90>, <quantumnet.objects.qubit.Qubit object at 0x7f045305bd30>, <quantumnet.objects.qubit.Qubit object at 0x7f045305bc10>, <quantumnet.objects.qubit.Qubit object at 0x7f045305bfd0>, <quantumnet.objects.qubit.Qubit object at 0x7f045305bac0>, <quantumnet.objects.qubit.Qubit object at 0x7f045305bc70>, <quantumnet.objects.qubit.Qubit object at 0x7f045305b550>, <quantumnet.objects.qubit.Qubit object at 0x7f045305b8b0>]\n"
     ]
    }
   ],
   "source": [
    "print('memoria de alice:',(alice.memory))\n",
    "print('memoria de bob:',(bob.memory))"
   ]
  },
  {
   "cell_type": "markdown",
   "metadata": {},
   "source": [
    "##### Para realizar o teletransposte de n qubits de Alice e Bob, é utilizado o protocolo de teletransporte. "
   ]
  },
  {
   "cell_type": "code",
   "execution_count": 6,
   "metadata": {},
   "outputs": [
    {
     "name": "stderr",
     "output_type": "stream",
     "text": [
      "2024-07-15 14:32:09,594: Rota válida encontrada: [0, 3, 6, 7, 8]\n",
      "2024-07-15 14:32:09,598: Teletransporte de qubit de 0 para 8 falhou.\n"
     ]
    },
    {
     "data": {
      "text/plain": [
       "False"
      ]
     },
     "execution_count": 6,
     "metadata": {},
     "output_type": "execute_result"
    }
   ],
   "source": [
    "# rota = rede.networklayer.short_route_valid(0,8)\n",
    "rede.transportlayer.teleportation_protocol(0,8)"
   ]
  },
  {
   "cell_type": "markdown",
   "metadata": {},
   "source": [
    "##### Então, para obter as informações sobre o processo de teletransporte, por meio do método get_transmitted_qubits."
   ]
  },
  {
   "cell_type": "code",
   "execution_count": 7,
   "metadata": {},
   "outputs": [
    {
     "data": {
      "text/plain": [
       "[{'route': [0, 3, 6, 7, 8], 'alice_id': 0, 'bob_id': 8},\n",
       " {'route': [0, 3, 6, 7, 8], 'alice_id': 0, 'bob_id': 8},\n",
       " {'route': [0, 3, 6, 7, 8], 'alice_id': 0, 'bob_id': 8},\n",
       " {'alice_id': 0,\n",
       "  'bob_id': 8,\n",
       "  'route': [0, 3, 6, 7, 8],\n",
       "  'fidelity_alice': 0.9580686954554891,\n",
       "  'fidelity_bob': 0.10832004107191107,\n",
       "  'fidelity_route': 1.0,\n",
       "  'success_prob': 0.10377804044145084,\n",
       "  'qubit_alice': <quantumnet.objects.qubit.Qubit at 0x7f045012fa00>,\n",
       "  'qubit_bob': <quantumnet.objects.qubit.Qubit at 0x7f045305b8b0>,\n",
       "  'success': False}]"
      ]
     },
     "execution_count": 7,
     "metadata": {},
     "output_type": "execute_result"
    }
   ],
   "source": [
    "rede.transportlayer.get_transmitted_qubits()"
   ]
  },
  {
   "cell_type": "markdown",
   "metadata": {},
   "source": [
    "##### Logo, ao mostrar a memória de Alice e Bob, percebe-se que um qubit foi da memória de Alice para Bob."
   ]
  },
  {
   "cell_type": "code",
   "execution_count": 8,
   "metadata": {},
   "outputs": [
    {
     "name": "stdout",
     "output_type": "stream",
     "text": [
      "memoria de alice: [<quantumnet.objects.qubit.Qubit object at 0x7f0451fe49a0>, <quantumnet.objects.qubit.Qubit object at 0x7f0450f30af0>, <quantumnet.objects.qubit.Qubit object at 0x7f04507012b0>, <quantumnet.objects.qubit.Qubit object at 0x7f0451f8ee80>, <quantumnet.objects.qubit.Qubit object at 0x7f04506fcb80>, <quantumnet.objects.qubit.Qubit object at 0x7f045012f700>, <quantumnet.objects.qubit.Qubit object at 0x7f045012f850>, <quantumnet.objects.qubit.Qubit object at 0x7f0451f8e640>, <quantumnet.objects.qubit.Qubit object at 0x7f045012f820>, <quantumnet.objects.qubit.Qubit object at 0x7f045012fa00>]\n",
      "memoria de bob: [<quantumnet.objects.qubit.Qubit object at 0x7f04504ef910>, <quantumnet.objects.qubit.Qubit object at 0x7f0453057fa0>, <quantumnet.objects.qubit.Qubit object at 0x7f045305bd90>, <quantumnet.objects.qubit.Qubit object at 0x7f045305bd30>, <quantumnet.objects.qubit.Qubit object at 0x7f045305bc10>, <quantumnet.objects.qubit.Qubit object at 0x7f045305bfd0>, <quantumnet.objects.qubit.Qubit object at 0x7f045305bac0>, <quantumnet.objects.qubit.Qubit object at 0x7f045305bc70>, <quantumnet.objects.qubit.Qubit object at 0x7f045305b550>, <quantumnet.objects.qubit.Qubit object at 0x7f045305b8b0>]\n"
     ]
    }
   ],
   "source": [
    "print('memoria de alice:',(alice.memory))\n",
    "print('memoria de bob:',(bob.memory))"
   ]
  }
 ],
 "metadata": {
  "kernelspec": {
   "display_name": "Python 3",
   "language": "python",
   "name": "python3"
  },
  "language_info": {
   "codemirror_mode": {
    "name": "ipython",
    "version": 3
   },
   "file_extension": ".py",
   "mimetype": "text/x-python",
   "name": "python",
   "nbconvert_exporter": "python",
   "pygments_lexer": "ipython3",
   "version": "3.9.2"
  }
 },
 "nbformat": 4,
 "nbformat_minor": 2
}
